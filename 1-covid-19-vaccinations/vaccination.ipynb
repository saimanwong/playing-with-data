{
 "cells": [
  {
   "cell_type": "markdown",
   "id": "18c2b464",
   "metadata": {},
   "source": [
    "# 1. Load data and try to understand it\n",
    "\n",
    "Data source: https://www.kaggle.com/gpreda/covid-world-vaccination-progress\n",
    "\n",
    "Most likely something to do with unsupervised learning, but lets see."
   ]
  },
  {
   "cell_type": "code",
   "execution_count": null,
   "id": "64e8037f",
   "metadata": {},
   "outputs": [],
   "source": [
    "from datetime import datetime\n",
    "import json\n",
    "\n",
    "# Progress bar\n",
    "from tqdm import tqdm\n",
    "\n",
    "# Data\n",
    "import pandas as pd\n",
    "import numpy as np\n",
    "\n",
    "# Visualization\n",
    "import seaborn as sns\n",
    "import matplotlib.pyplot as plt\n",
    "plt.style.use('classic')\n",
    "%matplotlib inline\n",
    "\n",
    "# Helper\n",
    "from kneed import KneeLocator\n",
    "\n",
    "# Algos\n",
    "from sklearn.cluster import KMeans\n",
    "from sklearn.metrics import silhouette_score\n",
    "#from sklearn.metrics import silhouette_score\n",
    "#from sklearn.preprocessing import StandardScaler"
   ]
  },
  {
   "cell_type": "code",
   "execution_count": null,
   "id": "843ac976",
   "metadata": {},
   "outputs": [],
   "source": [
    "df = pd.read_csv('data/country_vaccinations.csv')\n",
    "df_man = pd.read_csv('data/country_vaccinations_by_manufacturer.csv')"
   ]
  },
  {
   "cell_type": "markdown",
   "id": "4d770b89",
   "metadata": {},
   "source": [
    "## 1.2 What kind of data do we have here?"
   ]
  },
  {
   "cell_type": "markdown",
   "id": "c34d030f",
   "metadata": {},
   "source": [
    "### 1.2.1 Country Vaccination"
   ]
  },
  {
   "cell_type": "code",
   "execution_count": null,
   "id": "55be6237",
   "metadata": {},
   "outputs": [],
   "source": [
    "df.shape"
   ]
  },
  {
   "cell_type": "code",
   "execution_count": null,
   "id": "e109f108",
   "metadata": {},
   "outputs": [],
   "source": [
    "df.info()"
   ]
  },
  {
   "cell_type": "code",
   "execution_count": null,
   "id": "36511c11",
   "metadata": {},
   "outputs": [],
   "source": [
    "df.isna().any()"
   ]
  },
  {
   "cell_type": "code",
   "execution_count": null,
   "id": "2b938af8",
   "metadata": {},
   "outputs": [],
   "source": [
    "df.describe(include='all')"
   ]
  },
  {
   "cell_type": "code",
   "execution_count": null,
   "id": "de7187e4",
   "metadata": {},
   "outputs": [],
   "source": [
    "', '.join(df.country.unique())"
   ]
  },
  {
   "cell_type": "code",
   "execution_count": null,
   "id": "dba2ce9a",
   "metadata": {},
   "outputs": [],
   "source": [
    "', '.join(df.iso_code.unique())"
   ]
  },
  {
   "cell_type": "code",
   "execution_count": null,
   "id": "e9e26678",
   "metadata": {},
   "outputs": [],
   "source": [
    "# Why do you have duplicated values? \n",
    "# Oh, nvm, a country can use multiple vaccines and they are comma-separated\n",
    "', '.join(df.vaccines.unique()) "
   ]
  },
  {
   "cell_type": "code",
   "execution_count": null,
   "id": "2902297b",
   "metadata": {},
   "outputs": [],
   "source": [
    "# Dec 2020 - May 2021\n",
    "df.date.min(), df.date.max()"
   ]
  },
  {
   "cell_type": "code",
   "execution_count": null,
   "id": "1ad3484e",
   "metadata": {},
   "outputs": [],
   "source": [
    "df[df['iso_code'] == 'SWE'].sort_values(by='total_vaccinations', ascending=False).head()"
   ]
  },
  {
   "cell_type": "markdown",
   "id": "7350152f",
   "metadata": {},
   "source": [
    "### 1.2.2 Country Vaccination by Manufacturer"
   ]
  },
  {
   "cell_type": "markdown",
   "id": "b7922768",
   "metadata": {},
   "source": [
    "## 1.2 Features/Variables/Columns\n",
    "\n",
    "Current features\n",
    "- country\n",
    "    - split into continents?\n",
    "    - split the continents according geographical location? west, north, east, south, middle?\n",
    "    - gdp?\n",
    "- total_vaccinations, a bit of na values, fill?\n",
    "- vaccines -> split mulitple into separate rows\n",
    "- people_fully_vaccinated\n",
    "\n",
    "Drop\n",
    "- people_vaccinated\n",
    "- daily_vaccinations_raw\n",
    "- daily_vaccinations \t\n",
    "- total_vaccinations_per_hundred \t\n",
    "- people_vaccinated_per_hundred \t\n",
    "- people_fully_vaccinated_per_hundred \t\n",
    "- daily_vaccinations_per_million \t\n",
    "- source_name \t\n",
    "- source_website\n",
    "- iso_code\n",
    "\n",
    "New features\n",
    "- [inhabitants/population](https://www.kaggle.com/tanuprabhu/population-by-country-2020)"
   ]
  },
  {
   "cell_type": "code",
   "execution_count": null,
   "id": "0a8246fa",
   "metadata": {},
   "outputs": [],
   "source": [
    "df.info()"
   ]
  },
  {
   "cell_type": "markdown",
   "id": "313f2fcd",
   "metadata": {},
   "source": [
    "# 2 Fix fix the data"
   ]
  },
  {
   "cell_type": "code",
   "execution_count": null,
   "id": "7718625e",
   "metadata": {},
   "outputs": [],
   "source": [
    "drop_columns = [\n",
    "    \"people_vaccinated\",\n",
    "    \"people_fully_vaccinated\",\n",
    "    \"daily_vaccinations_raw\",\n",
    "    \"daily_vaccinations\",\n",
    "    \"total_vaccinations_per_hundred\",\n",
    "    \"people_vaccinated_per_hundred\",\n",
    "    \"people_fully_vaccinated_per_hundred\",\n",
    "    \"daily_vaccinations_per_million\",\n",
    "    \"source_name\",\n",
    "    \"source_website\",\n",
    "    \"iso_code\",\n",
    "]\n",
    "\n",
    "df = df.drop(drop_columns, axis=1)\n",
    "df.info()"
   ]
  },
  {
   "cell_type": "markdown",
   "id": "ec28874b",
   "metadata": {},
   "source": [
    "## 2.1 Fill out NA"
   ]
  },
  {
   "cell_type": "code",
   "execution_count": null,
   "id": "e054f596",
   "metadata": {},
   "outputs": [],
   "source": [
    "na_country_set = set()\n",
    "    \n",
    "for col in ['total_vaccinations']:\n",
    "    for i in df[df[col].isna()].index:\n",
    "        na_country_set.add(df['country'][i])\n",
    "\n",
    "    for c in na_country_set:\n",
    "        last = None\n",
    "        stack = []\n",
    "        for i in df[df['country'] == c].index:\n",
    "            date = df['date'][i]\n",
    "            curr = df[col][i]\n",
    "            if np.isnan(curr):\n",
    "                stack.append(i)\n",
    "                continue\n",
    "\n",
    "            if len(stack) == 0 and not np.isnan(curr):\n",
    "                last = curr\n",
    "                continue\n",
    "\n",
    "            # Found end\n",
    "            try:\n",
    "                increments = (curr - last) / len(stack)\n",
    "            except TypeError as e:\n",
    "                continue\n",
    "\n",
    "            while stack:\n",
    "                stack_len = len(stack)\n",
    "                curr_idx = stack.pop()\n",
    "                df.at[curr_idx, col] = np.float64(int(last + increments*stack_len))\n",
    "\n",
    "            last = curr\n",
    "        \n",
    "    df[col].fillna(method='ffill', inplace=True)\n",
    "    \n",
    "    \n",
    "    for i in df[df['country'] == 'United States'].index:\n",
    "        date = df['date'][i]\n",
    "        curr = df[col][i]\n",
    "        print(\n",
    "            'USA {} {}'.format(\n",
    "                date, curr\n",
    "            )\n",
    "        )\n",
    "        \n",
    "    na_country_set = set()"
   ]
  },
  {
   "cell_type": "code",
   "execution_count": null,
   "id": "e6d79ad6",
   "metadata": {},
   "outputs": [],
   "source": [
    "df.info()"
   ]
  },
  {
   "cell_type": "markdown",
   "id": "c0466a08",
   "metadata": {},
   "source": [
    "## 2.2 Group countries into groups"
   ]
  },
  {
   "cell_type": "code",
   "execution_count": null,
   "id": "a1502c76",
   "metadata": {},
   "outputs": [],
   "source": [
    "# Sort countries by their mean vaccines\n",
    "GROUP_N = 7\n",
    "tvs = df[['country', 'total_vaccinations']].groupby('country').mean().sort_values(by='total_vaccinations', ascending=False)\n",
    "bucket = dict()\n",
    "count = 1\n",
    "inner_count = 0\n",
    "for c in tvs.index:\n",
    "    if inner_count == GROUP_N:\n",
    "        count += 1\n",
    "        inner_count = 0\n",
    "        \n",
    "    bucket[c] = count\n",
    "    inner_count += 1\n",
    "    \n",
    "\n",
    "# Introduce new column to graph, total_vaccines_grouped into GROUP_N\n",
    "df['country_group'] = df['country'].map(bucket)"
   ]
  },
  {
   "cell_type": "code",
   "execution_count": null,
   "id": "079687fa",
   "metadata": {
    "scrolled": true
   },
   "outputs": [],
   "source": [
    "plt.figure(figsize=(16, 16))\n",
    "sns.lineplot(data=df[df['country_group'] == 1], x=\"date\", y=\"total_vaccinations\", hue='country')"
   ]
  },
  {
   "cell_type": "markdown",
   "id": "84cf0658",
   "metadata": {},
   "source": [
    "Why is 2020 not on the left side? Just covert it into epoch..."
   ]
  },
  {
   "cell_type": "code",
   "execution_count": null,
   "id": "09e2a54e",
   "metadata": {},
   "outputs": [],
   "source": [
    "# To unix time\n",
    "for i in df.index:\n",
    "    d = df['date'][i].split('-')\n",
    "    df.at[i, 'date_unix'] = datetime(int(d[0]), int(d[1]), int(d[2])).timestamp()\n",
    "    \n",
    "plt.figure(figsize=(16, 10))\n",
    "sns.lineplot(data=df[df['country_group'] == 1], x=\"date_unix\", y=\"total_vaccinations\", hue='country')\n",
    "plt.legend(bbox_to_anchor=(1.1, 1), borderaxespad=0)"
   ]
  },
  {
   "cell_type": "code",
   "execution_count": null,
   "id": "958f80f3",
   "metadata": {},
   "outputs": [],
   "source": [
    "#g = sns.FacetGrid(df.query('country_group == 1 or country_group == 2'), col='country_group', col_wrap=2, sharey=False, height=10)\n",
    "g = sns.FacetGrid(df, col='country_group', col_wrap=2, sharey=False, height=10)\n",
    "                  \n",
    "g.map(sns.lineplot, 'date_unix', 'total_vaccinations', 'country')\n",
    "for ax in g.axes.ravel():\n",
    "    ax.legend(loc='upper left')"
   ]
  },
  {
   "cell_type": "markdown",
   "id": "704bb813",
   "metadata": {},
   "source": [
    "## 2.3 total_vaccinations per person ratio"
   ]
  },
  {
   "cell_type": "code",
   "execution_count": null,
   "id": "fe986d2e",
   "metadata": {},
   "outputs": [],
   "source": [
    "df_pop = pd.read_csv('data/population_by_country_2020.csv')\n",
    "df_pop.rename(columns={\n",
    "    'Country (or dependency)': 'country',\n",
    "    'Population (2020)': 'population',\n",
    "}, inplace=True)\n",
    "df_pop.info()"
   ]
  },
  {
   "cell_type": "markdown",
   "id": "3c803bc9",
   "metadata": {},
   "source": [
    "### 2.3.1 Check countries match with original dataset and fill missing"
   ]
  },
  {
   "cell_type": "code",
   "execution_count": null,
   "id": "cabe54d1",
   "metadata": {},
   "outputs": [],
   "source": [
    "countries = df.country.unique()\n",
    "not_found_countries = list()\n",
    "\n",
    "for c in countries:\n",
    "    pop = df_pop.loc[df_pop['country'].str.contains(c), 'population'].values\n",
    "    if len(pop) == 0:\n",
    "        print('could not find population for {} in dataset'.format(c))\n",
    "        not_found_countries.append(c)\n",
    "        \n",
    "replace = {\n",
    "    'Cabo Verde': 'Cape Verde',\n",
    "    \"Côte d'Ivoire\": \"Cote d'Ivoire\",\n",
    "    'DR Congo': 'Democratic Republic of Congo',\n",
    "    'Saint Kitts & Nevis': 'Saint Kitts and Nevis',\n",
    "    'St. Vincent & Grenadines': 'Saint Vincent and the Grenadines',\n",
    "    'Sao Tome & Principe': 'Sao Tome and Principe',\n",
    "    'Turks and Caicos': 'Turks and Caicos Islands',\n",
    "}\n",
    "\n",
    "add = {\n",
    "    'Curacao': 157538, # 2019, Världsbanken\n",
    "    'England': 55.98 * (10**6), # 2018, ONS Storbritannien, Eurostat, Världsbanken\n",
    "    'Guernsey': 62792, # 2019, wiki? google?\n",
    "    'Jersey': 97857, # 2011, wiki? google?\n",
    "    'Kosovo': 1.873 * (10**6), # 2020, wiki? google?\n",
    "    'Northern Cyprus': 326000, # 2017, wiki? google?\n",
    "    'Northern Ireland': 1.885 * (10**6), # 2019, Eurostat, Förenta nationerna\n",
    "    'Scotland': 5.454 * (10**6), # 2019, Eurostat\n",
    "    'Wales': 3.136 * (10**6), # 2019, Eurostat\n",
    "}\n",
    "\n",
    "# Replace\n",
    "for old, new in replace.items():\n",
    "    df_pop.at[df_pop[df_pop['country'] == old].index[0], 'country'] = new\n",
    "    \n",
    "# Add\n",
    "for name, pop in add.items():\n",
    "    df_pop = df_pop.append({\n",
    "        'country': name,\n",
    "        'population': pop,\n",
    "    }, ignore_index=True)"
   ]
  },
  {
   "cell_type": "code",
   "execution_count": null,
   "id": "1ab48dbb",
   "metadata": {},
   "outputs": [],
   "source": [
    "for name in add:\n",
    "    print(df_pop[df_pop['country'] == name][['country', 'population']])"
   ]
  },
  {
   "cell_type": "markdown",
   "id": "815177db",
   "metadata": {},
   "source": [
    "### 2.3.2 Ratio feature\n",
    "\n",
    "`total_vaccination / population`\n",
    "\n",
    "`if > 1`: most likely the entire population got the first vaccine (assuming you randomly vaccinate people)"
   ]
  },
  {
   "cell_type": "code",
   "execution_count": null,
   "id": "93533fe0",
   "metadata": {
    "scrolled": true
   },
   "outputs": [],
   "source": [
    "for i in df.index:\n",
    "    tvc = df['total_vaccinations'][i]\n",
    "    country = df['country'][i]\n",
    "    pop = df_pop[df_pop['country'].str.contains(country)].population.values[0]\n",
    "    df.at[i, 'total_vaccinations_population_ratio'] = tvc/pop"
   ]
  },
  {
   "cell_type": "code",
   "execution_count": null,
   "id": "ed6dcd85",
   "metadata": {},
   "outputs": [],
   "source": [
    "g = sns.FacetGrid(df, col='country_group', col_wrap=2, sharey=False, height=10)\n",
    "g.map(sns.scatterplot, 'date_unix', 'total_vaccinations_population_ratio', 'country')\n",
    "for ax in g.axes.ravel():\n",
    "    ax.legend(loc='upper left')"
   ]
  },
  {
   "cell_type": "code",
   "execution_count": null,
   "id": "f8fdbdf1",
   "metadata": {},
   "outputs": [],
   "source": [
    "plt.figure(figsize=(16,32))\n",
    "sns.barplot(data=df.sort_values(by='country'), x='total_vaccinations_population_ratio', y='country')"
   ]
  },
  {
   "cell_type": "markdown",
   "id": "26dc96d8",
   "metadata": {},
   "source": [
    "## 2.4 Split out vaccines"
   ]
  },
  {
   "cell_type": "code",
   "execution_count": null,
   "id": "454a685a",
   "metadata": {},
   "outputs": [],
   "source": [
    "for v in df.vaccines.unique():\n",
    "    print(v)"
   ]
  },
  {
   "cell_type": "code",
   "execution_count": null,
   "id": "f03f2b3a",
   "metadata": {},
   "outputs": [],
   "source": [
    "SPLIT_VACCINES_CSV_PATH = 'data/custom_split_vaccines.csv'\n",
    "df_splitv = pd.DataFrame()\n",
    "try:\n",
    "    # 'Cached'\n",
    "    df_splitv = pd.read_csv(SPLIT_VACCINES_CSV_PATH)\n",
    "    df = pd.read_csv('data/custom_country_vaccinations.csv')\n",
    "except Exception as e:\n",
    "    # CSV does most likely to exist\n",
    "    df_splitv = pd.DataFrame(columns=np.append(df.columns.values, 'vaccine'))\n",
    "    idx_to_delete = list()\n",
    "\n",
    "    for v in tqdm(df.vaccines.unique()):\n",
    "        spl = v.split(', ')\n",
    "        cols = df[df['vaccines'] == v]\n",
    "        for i in cols.index:\n",
    "            if len(spl) == 1:\n",
    "                df.at[i, 'vaccine'] = spl[0]\n",
    "                continue\n",
    "                \n",
    "            for vs in spl:\n",
    "                curr = df.iloc[i].copy()\n",
    "                curr['vaccine'] = vs\n",
    "                df_splitv = df_splitv.append(curr, ignore_index=True)\n",
    "\n",
    "        idx_to_delete.extend(cols.index)\n",
    "    \n",
    "    df_splitv.to_csv('data/custom_split_vaccines.csv', index=False)\n",
    "    df = df.drop(index=idx_to_delete)\n",
    "    df = df.append(df_splitv, ignore_index=True)\n",
    "    \n",
    "#df = df.drop(columns=['vaccines'], axis=1)\n",
    "#df.to_csv('data/custom_country_vaccinations.csv', index=False)\n",
    "df = df.astype({'country_group': int})\n",
    "df.info()"
   ]
  },
  {
   "cell_type": "code",
   "execution_count": null,
   "id": "d54f6bbf",
   "metadata": {},
   "outputs": [],
   "source": [
    "df[['vaccine', 'country']].groupby('vaccine').nunique().sort_values(by='country', ascending=False)"
   ]
  },
  {
   "cell_type": "code",
   "execution_count": null,
   "id": "857749b7",
   "metadata": {},
   "outputs": [],
   "source": [
    "v_map = dict()\n",
    "\n",
    "uniqv = df[['vaccine', 'country']].groupby('vaccine').nunique().sort_values(by='country', ascending=False).to_dict()['country']\n",
    "count = 1\n",
    "for k in uniqv:\n",
    "    v_map[k] = count\n",
    "    count += 1\n",
    "    \n",
    "df = df.replace({'vaccine': v_map})\n",
    "print(json.dumps(v_map, indent=2))"
   ]
  },
  {
   "cell_type": "code",
   "execution_count": null,
   "id": "b37ac253",
   "metadata": {},
   "outputs": [],
   "source": [
    "df.sort_values(by='total_vaccinations', ascending=False).head()"
   ]
  },
  {
   "cell_type": "markdown",
   "id": "d082ba0e",
   "metadata": {},
   "source": [
    "# 3 Algos "
   ]
  },
  {
   "cell_type": "code",
   "execution_count": null,
   "id": "a8212ef6",
   "metadata": {},
   "outputs": [],
   "source": [
    "print(df.columns.values)\n",
    "test = df.copy()\n",
    "test.info()"
   ]
  },
  {
   "cell_type": "markdown",
   "id": "f3856364",
   "metadata": {},
   "source": [
    "## 3.1 K-Means\n",
    "\n",
    "https://realpython.com/k-means-clustering-python/#understanding-the-k-means-algorithm\n",
    "\n",
    "https://www.youtube.com/watch?v=4b5d3muPQmA"
   ]
  },
  {
   "cell_type": "code",
   "execution_count": null,
   "id": "f76ab7b0",
   "metadata": {},
   "outputs": [],
   "source": [
    "#kmeans_drop_columns = ['country', 'date'] # n=2 elbow\n",
    "kmeans_drop_columns = ['country', 'country_group', 'date', 'date_unix', 'total_vaccinations', 'vaccine'] # n=3 elbow\n",
    "kmeans_kwargs = {\n",
    "    'init': 'random',\n",
    "    'n_init': 10,\n",
    "    'max_iter': 300,\n",
    "    'random_state': 42\n",
    "}\n",
    "\n",
    "ran = range(1, 11)"
   ]
  },
  {
   "cell_type": "markdown",
   "id": "9a95074f",
   "metadata": {},
   "source": [
    "### 3.1.1 Elbow method\n",
    "\n",
    "https://en.wikipedia.org/wiki/Residual_sum_of_squares"
   ]
  },
  {
   "cell_type": "code",
   "execution_count": null,
   "id": "1196b85b",
   "metadata": {},
   "outputs": [],
   "source": [
    "sse = []\n",
    "for k in ran:\n",
    "    kmeans = KMeans(n_clusters=k, **kmeans_kwargs)\n",
    "    kmeans.fit(test.drop(columns=kmeans_drop_columns, axis=1))\n",
    "    sse.append(kmeans.inertia_)\n",
    "    \n",
    "clusters_n = KneeLocator(ran, sse, curve='convex', direction='decreasing').elbow\n",
    "print('KneeLocator', clusters_n)\n",
    "sns.lineplot(x=ran, y=sse)"
   ]
  },
  {
   "cell_type": "markdown",
   "id": "cb3de4fe",
   "metadata": {},
   "source": [
    "### 3.1.2 Silhouette method"
   ]
  },
  {
   "cell_type": "code",
   "execution_count": null,
   "id": "35629b76",
   "metadata": {},
   "outputs": [],
   "source": [
    "# Takes time...\n",
    "\n",
    "if False:\n",
    "    silhouette_coefficients = list()\n",
    "    ran = range(2, 11)\n",
    "\n",
    "    for k in tqdm(ran):\n",
    "        kmeans = KMeans(n_clusters=k, **kmeans_kwargs)\n",
    "        kmeans.fit(test.drop(columns=['country', 'date'], axis=1))\n",
    "        score = silhouette_score(test.drop(columns=['country', 'date'], axis=1), kmeans.labels_)\n",
    "        silhouette_coefficients.append(score)\n",
    "\n",
    "    sns.lineplot(x=ran, y=silhouette_coefficients)"
   ]
  },
  {
   "cell_type": "markdown",
   "id": "e6d69b1f",
   "metadata": {},
   "source": [
    "### 3.1.3 Where do the clusters form?\n",
    "\n",
    "`total_vaccinations` above a certain threshold becomes a cluster... not that insightful?"
   ]
  },
  {
   "cell_type": "code",
   "execution_count": null,
   "id": "8691fef8",
   "metadata": {},
   "outputs": [],
   "source": [
    "kmeans = KMeans(n_clusters=clusters_n)\n",
    "test['clusters'] = kmeans.fit_predict(test.drop(columns=kmeans_drop_columns, axis=1))\n",
    "print(test.head())\n",
    "\n",
    "cols = test.drop(columns=['country', 'date']).columns.values\n",
    "\n",
    "for x in cols:\n",
    "    for y in cols:\n",
    "        if x == y:\n",
    "            continue\n",
    "        \n",
    "        if x == 'clusters' or y == 'clusters':\n",
    "            continue\n",
    "            \n",
    "        plt.figure(figsize=(10, 10))\n",
    "        sns.scatterplot(data=test, x=x, y=y, hue='clusters')\n",
    "        plt.show()"
   ]
  },
  {
   "cell_type": "markdown",
   "id": "efacb8d0",
   "metadata": {},
   "source": [
    "Clustered based on date_unix?"
   ]
  },
  {
   "cell_type": "code",
   "execution_count": null,
   "id": "a7dc22a7",
   "metadata": {
    "scrolled": true
   },
   "outputs": [],
   "source": [
    "plt.figure(figsize=(16,32))\n",
    "g = sns.scatterplot(data=test, x=\"date_unix\", y=\"country_group\", size=\"total_vaccinations\", legend=False, hue='clusters', sizes=(20, 2000))\n",
    "plt.show()"
   ]
  },
  {
   "cell_type": "code",
   "execution_count": null,
   "id": "ca8972a0",
   "metadata": {},
   "outputs": [],
   "source": [
    "plt.figure(figsize=(16,32))\n",
    "sns.barplot(data=test.sort_values(by='country'), x=\"total_vaccinations\", y=\"country\", hue='clusters')\n",
    "plt.show()"
   ]
  },
  {
   "cell_type": "code",
   "execution_count": null,
   "id": "6309dc6f",
   "metadata": {},
   "outputs": [],
   "source": [
    "test[['total_vaccinations', 'clusters', 'date_unix']].groupby('clusters').agg(['mean', 'min', 'max'])\n"
   ]
  },
  {
   "cell_type": "code",
   "execution_count": null,
   "id": "10f00930",
   "metadata": {},
   "outputs": [],
   "source": [
    "for n in range(0, clusters_n):\n",
    "    print(f'-----Cluster {n}-----')\n",
    "    meanv = test[test['clusters'] == n]['total_vaccinations'].mean()\n",
    "    minv = test[test['clusters'] == n]['total_vaccinations'].min()\n",
    "    maxv = test[test['clusters'] == n]['total_vaccinations'].max()\n",
    "    print(f'mean vaccinations:\\t{round(meanv, 2)}')\n",
    "    print(f'min max vaccinations:\\t{minv} <= {maxv}')\n",
    "    \n",
    "    meanv = test[test['clusters'] == n]['total_vaccinations_population_ratio'].mean()\n",
    "    minv = test[test['clusters'] == n]['total_vaccinations_population_ratio'].min()\n",
    "    maxv = test[test['clusters'] == n]['total_vaccinations_population_ratio'].max()\n",
    "    print(f'vacc/pop min max:\\t{round(minv, 3)} <= {round(maxv, 3)}')\n",
    "    print(f'vacc/pop mean:\\t\\t{round(meanv, 3)}')\n",
    "    \n",
    "    minv = test[test['clusters'] == n]['date_unix'].min()\n",
    "    maxv = test[test['clusters'] == n]['date_unix'].max()\n",
    "    print(f'min max date:\\t\\t{datetime.fromtimestamp(minv)} <= {datetime.fromtimestamp(maxv)}')\n",
    "    \n",
    "    inv_v_map = {v: k for k, v in v_map.items()}\n",
    "    unique_vaccines = test[test['clusters'] == n].vaccine.unique()\n",
    "    unique_vaccines_str = list()\n",
    "    for i in range(len(unique_vaccines)):\n",
    "        name = inv_v_map[unique_vaccines[i]]\n",
    "        unique_vaccines_str.append(name)\n",
    "        \n",
    "    print(f'unique vaccines:\\t{\", \".join(unique_vaccines_str)}, ({len(unique_vaccines)})')\n",
    "    \n",
    "    unique_countries = test[test['clusters'] == n].country.unique()\n",
    "    print(f'unique countries:\\t{\", \".join(unique_countries)}, ({len(unique_countries)})')\n",
    "    \n",
    "    \n",
    "    \n",
    "    print()\n"
   ]
  },
  {
   "cell_type": "code",
   "execution_count": null,
   "id": "920bf788",
   "metadata": {},
   "outputs": [],
   "source": [
    "g = sns.FacetGrid(test, col='clusters', height=5, sharey=False, sharex=False, col_wrap=1)\n",
    "g.map(sns.scatterplot, 'date_unix', 'total_vaccinations', 'country')\n",
    "for ax in g.axes.ravel():\n",
    "    ax.legend(bbox_to_anchor=(2.05, 1))"
   ]
  },
  {
   "cell_type": "code",
   "execution_count": null,
   "id": "9178ad79",
   "metadata": {},
   "outputs": [],
   "source": [
    "g = sns.FacetGrid(test, col='clusters', height=5, aspect=1.5, sharey=False, sharex=False, col_wrap=1)\n",
    "g.map(sns.scatterplot, 'date_unix', 'total_vaccinations_population_ratio', 'country')\n",
    "for ax in g.axes.ravel():\n",
    "    ax.legend(bbox_to_anchor=(1.5, 1))"
   ]
  }
 ],
 "metadata": {
  "kernelspec": {
   "display_name": "Python 3",
   "language": "python",
   "name": "python3"
  },
  "language_info": {
   "codemirror_mode": {
    "name": "ipython",
    "version": 3
   },
   "file_extension": ".py",
   "mimetype": "text/x-python",
   "name": "python",
   "nbconvert_exporter": "python",
   "pygments_lexer": "ipython3",
   "version": "3.9.4"
  }
 },
 "nbformat": 4,
 "nbformat_minor": 5
}
