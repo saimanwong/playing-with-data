{
 "cells": [
  {
   "cell_type": "code",
   "execution_count": 1,
   "id": "f193edcf",
   "metadata": {},
   "outputs": [],
   "source": [
    "%matplotlib inline\n",
    "\n",
    "from datetime import datetime\n",
    "import json\n",
    "\n",
    "# Data\n",
    "import pandas as pd\n",
    "import numpy as np\n",
    "\n",
    "# Visualization\n",
    "import matplotlib.pyplot as plt\n",
    "import seaborn as sns"
   ]
  },
  {
   "cell_type": "markdown",
   "id": "d9352ffe",
   "metadata": {},
   "source": [
    "Trying out EDA"
   ]
  },
  {
   "cell_type": "markdown",
   "id": "cf0cfcd5",
   "metadata": {},
   "source": [
    "# 1 Inspect data"
   ]
  },
  {
   "cell_type": "code",
   "execution_count": 2,
   "id": "495b6aa1",
   "metadata": {},
   "outputs": [
    {
     "name": "stdout",
     "output_type": "stream",
     "text": [
      "<class 'pandas.core.frame.DataFrame'>\n",
      "RangeIndex: 15666 entries, 0 to 15665\n",
      "Data columns (total 15 columns):\n",
      " #   Column                               Non-Null Count  Dtype         \n",
      "---  ------                               --------------  -----         \n",
      " 0   country                              15666 non-null  object        \n",
      " 1   iso_code                             15666 non-null  object        \n",
      " 2   date                                 15666 non-null  datetime64[ns]\n",
      " 3   total_vaccinations                   9437 non-null   float64       \n",
      " 4   people_vaccinated                    8754 non-null   float64       \n",
      " 5   people_fully_vaccinated              6502 non-null   float64       \n",
      " 6   daily_vaccinations_raw               7928 non-null   float64       \n",
      " 7   daily_vaccinations                   15465 non-null  float64       \n",
      " 8   total_vaccinations_per_hundred       9437 non-null   float64       \n",
      " 9   people_vaccinated_per_hundred        8754 non-null   float64       \n",
      " 10  people_fully_vaccinated_per_hundred  6502 non-null   float64       \n",
      " 11  daily_vaccinations_per_million       15465 non-null  float64       \n",
      " 12  vaccines                             15666 non-null  object        \n",
      " 13  source_name                          15666 non-null  object        \n",
      " 14  source_website                       15666 non-null  object        \n",
      "dtypes: datetime64[ns](1), float64(9), object(5)\n",
      "memory usage: 1.8+ MB\n"
     ]
    }
   ],
   "source": [
    "df = pd.read_csv('data/country_vaccinations.csv')\n",
    "df.date = pd.to_datetime(df.date)\n",
    "df.info()"
   ]
  },
  {
   "cell_type": "code",
   "execution_count": 3,
   "id": "d0e73435",
   "metadata": {},
   "outputs": [
    {
     "data": {
      "text/plain": [
       "people_fully_vaccinated                 58.5% missing\n",
       "people_fully_vaccinated_per_hundred     58.5% missing\n",
       "daily_vaccinations_raw                 49.39% missing\n",
       "people_vaccinated                      44.12% missing\n",
       "people_vaccinated_per_hundred          44.12% missing\n",
       "total_vaccinations                     39.76% missing\n",
       "total_vaccinations_per_hundred         39.76% missing\n",
       "daily_vaccinations                      1.28% missing\n",
       "daily_vaccinations_per_million          1.28% missing\n",
       "country                                  0.0% missing\n",
       "iso_code                                 0.0% missing\n",
       "date                                     0.0% missing\n",
       "vaccines                                 0.0% missing\n",
       "source_name                              0.0% missing\n",
       "source_website                           0.0% missing\n",
       "dtype: object"
      ]
     },
     "execution_count": 3,
     "metadata": {},
     "output_type": "execute_result"
    }
   ],
   "source": [
    "df.isna().sum().sort_values(ascending=False).transform(\n",
    "    lambda x: f'{round(x/(len(df.index)) * 100, 2)}% missing'\n",
    ")"
   ]
  },
  {
   "cell_type": "markdown",
   "id": "6589a8db",
   "metadata": {},
   "source": [
    "# 2 Fill in missing data"
   ]
  },
  {
   "cell_type": "code",
   "execution_count": 4,
   "id": "a5dcd579",
   "metadata": {},
   "outputs": [],
   "source": [
    "missing_cols = [\n",
    "    'people_fully_vaccinated',\n",
    "    'people_fully_vaccinated_per_hundred',\n",
    "    'daily_vaccinations_raw',\n",
    "    'people_vaccinated',\n",
    "    'people_vaccinated_per_hundred',\n",
    "    'total_vaccinations',\n",
    "    'total_vaccinations_per_hundred',\n",
    "    'daily_vaccinations',\n",
    "    'daily_vaccinations_per_million',\n",
    "]"
   ]
  },
  {
   "cell_type": "markdown",
   "id": "f7044c48",
   "metadata": {},
   "source": [
    "## 2.1 people_fully_vaccinated"
   ]
  },
  {
   "cell_type": "code",
   "execution_count": null,
   "id": "8e99d38b",
   "metadata": {},
   "outputs": [],
   "source": []
  }
 ],
 "metadata": {
  "kernelspec": {
   "display_name": "Python 3",
   "language": "python",
   "name": "python3"
  },
  "language_info": {
   "codemirror_mode": {
    "name": "ipython",
    "version": 3
   },
   "file_extension": ".py",
   "mimetype": "text/x-python",
   "name": "python",
   "nbconvert_exporter": "python",
   "pygments_lexer": "ipython3",
   "version": "3.9.4"
  }
 },
 "nbformat": 4,
 "nbformat_minor": 5
}
